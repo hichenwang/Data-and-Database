{
 "cells": [
  {
   "cell_type": "markdown",
   "metadata": {},
   "source": [
    "## SCRAPING HTML\n",
    "HTML (\"Hypertext Mark-up Language\") is the language of the Internet, more specifically the World Wide Web. It is a very simple language that uses containers (like <HTML></HTML>) to tell a browser what up to display and how to display it.\n",
    "\n",
    "A note on browsers: from now on you should be using Chrome. If you do not have chrome installed on your computer, do that now before you go any further. Chrome's developers tools are by far the best and most reliable.\n",
    "\n",
    "This is how the Internet works (in a simplified way): you go to a page by typing a URL into the browser. The URL is and HTTP request for a file on a server. The file that arrives at your browser is an HTML file--the browser reads the HTML and displays what is supposed to be displayed, and also runs some scripts in the background. Most often, the page you see on your browser is an HTML page. (There are many exceptions, like direct PDF files, as well as data accessed via APIs.)\n",
    "\n",
    "HTML is the raw text source code of what you see in a browser. In Chrome you can view the raw HTML by either going to the menu bar and choosing--View: Developer: View Source -- or right-clicking (control-clicking) the mouse on a page and choosing View Source. Like so:\n",
    "\n",
    "<img src=\"http://floatingmedia.com/columbia/viewsource.png\">\n",
    "\n",
    "Don't panic! While HTML can be very disorienting at first look, there are more targeted and helpful ways to investigate it. The best one is through Chrome's \"inspect\" function. Right-click (or control-click) on the part the page that interests you, and select \"Inspect\" or \"Inspect Element\"--and you get the much more friendly developers tools way of navigating through the DOM tree:\n",
    "\n",
    "<img src=\"http://floatingmedia.com/columbia/inspect.png\">\n",
    "\n",
    "Did I say DOM tree? Yes, the DOM [document object model](https://www.w3schools.com/js/js_htmldom.asp) is a term for the hierarchical structure of HTML elements on a page. It is a tree, because each of the elements on a page is nested within groups of HTML tags. \n",
    "\n",
    "<img src=\"http://floatingmedia.com/columbia/treeStructure.png\">\n",
    "\n",
    "Here are the most common tags, and often the most helpful tags to use when navigating through an HTML page.\n",
    "\n",
    "`<h1>`, `<h2>`, `<h3>` headers\n",
    "`<p>` paragraph\n",
    "`<b>`, `<i>`, `<strong>` styles, like bold, italics...\n",
    "`<table><tr><td>` table elements including rows and cells\n",
    "`<a href=\"url\">` links\n",
    "`<div>`, `<span>` larger Element containers, these often have an id=\"name\" and/or class=\"name\" attached to them.\n",
    "`<ol>`,`<ul>`,`<li>` ordered and unordered lists\n",
    "\n",
    "For example: `<p>This would be a paragraph</p>`\n",
    "`<p>This would be a <b>paragraph</b></p>` Same thing but the word paragraph is bold\n",
    "\n",
    "Sometimes important information is hidden inside these tags:\n",
    "\n",
    "\n",
    "`<span class=\"year\">`2010`</span>`\n",
    "\n",
    "or \n",
    "\n",
    "`<a href=\"http://www.boxofficemojo.com/movies/?id=avengers11.htm\">`more info`</a>`\n",
    "\n",
    "In this case the \"class\" tag is likely adding styling information (see CSS), whereas the \"href\" tag holds a hyperlinked url. [For a more complete list of HTML tags click here](https://www.w3schools.com/tags/ref_byfunc.asp)\n",
    "\n",
    "\n",
    "**Why does this matter to us?**\n",
    "\n",
    "Note that each tag begins with `<tagname>` and ends with `</tagname>`. So these HTML tags are structuring the text. The reason for the structure just to tell the browser how everything should look, but we can also use the structure of HTML to programmatically traverse the data on a webpage and scrape out the information we need. This is what scraping is. HTML is not a reliable data structure, but it often it is consistent from page to page on a particular website. If you can learn how to navigate the dom tree, you can turn information on a messy webpage into reliable and searchable data.\n"
   ]
  },
  {
   "cell_type": "markdown",
   "metadata": {},
   "source": [
    "## This brings us to Beautiful Soup\n",
    "Beautiful Soup is a Python library that parses HTML, allowing us to navigate through the elements of a webpage using the HTML tags embedded in it. [Here is the link to the documentation,](https://www.crummy.com/software/BeautifulSoup/bs4/doc/) there are examples and Extensions Beyond what is demonstrated below.\n",
    "\n",
    "Now it's time to install Beautiful soup. Go to your terminal/shell/bash and type:\n",
    "\n",
    "`pip3 install bs4`\n",
    "\n",
    "We will begin by navigating a very simple HTML page I have posted on my website. [Please follow this link](http://floatingmedia.com/columbia/topfivelists.html) and try inspecting the HTML using Chrome. (p.s. The information on this page comes from [http://www.boxofficemojo.com/genres/chart/?id=comicbookadaptation.htm]"
   ]
  },
  {
   "cell_type": "markdown",
   "metadata": {},
   "source": [
    "The cell below uses the built in URL Library to import the file from the web. `raw_html` holds the text of that file.\n",
    "\n",
    "In the following cell, printing raw_html gives us all the text that was in the file."
   ]
  },
  {
   "cell_type": "code",
   "execution_count": null,
   "metadata": {
    "collapsed": true
   },
   "outputs": [],
   "source": [
    "raw_html = urlopen(\"http://floatingmedia.com/columbia/topfivelists.html\").read()"
   ]
  },
  {
   "cell_type": "code",
   "execution_count": null,
   "metadata": {
    "collapsed": true
   },
   "outputs": [],
   "source": [
    "print(type(raw_html))"
   ]
  },
  {
   "cell_type": "code",
   "execution_count": null,
   "metadata": {
    "collapsed": true
   },
   "outputs": [],
   "source": [
    "print(raw_html)"
   ]
  },
  {
   "cell_type": "markdown",
   "metadata": {},
   "source": [
    "Now we import Beautiful soup and create a new variable called soup_doc. In that variable we transform the text that we downloaded from the URL (the text in raw_html) into a beautiful soup object that we can investigate with built in functions (like .find())"
   ]
  },
  {
   "cell_type": "code",
   "execution_count": 1,
   "metadata": {
    "collapsed": true
   },
   "outputs": [],
   "source": [
    "from urllib.request import urlopen\n",
    "from bs4 import BeautifulSoup"
   ]
  },
  {
   "cell_type": "code",
   "execution_count": 9,
   "metadata": {},
   "outputs": [],
   "source": [
    "raw_html = urlopen(\"http://floatingmedia.com/columbia/topfivelists.html\").read()\n",
    "soup_doc = BeautifulSoup(raw_html, \"html.parser\")"
   ]
  },
  {
   "cell_type": "code",
   "execution_count": 5,
   "metadata": {},
   "outputs": [
    {
     "name": "stdout",
     "output_type": "stream",
     "text": [
      "<class 'bs4.BeautifulSoup'>\n"
     ]
    }
   ],
   "source": [
    "print(type(soup_doc))"
   ]
  },
  {
   "cell_type": "code",
   "execution_count": 6,
   "metadata": {},
   "outputs": [
    {
     "name": "stdout",
     "output_type": "stream",
     "text": [
      "<!DOCTYPE html>\n",
      "<html>\n",
      " <head>\n",
      "  <title>\n",
      "   best and worst comic book box office\n",
      "  </title>\n",
      "  <style>\n",
      "   .year {color: #DD0000}\n",
      "#favorite {background-color: #FFFFDD;\n",
      "  </style>\n",
      " </head>\n",
      " <body>\n",
      "  <p>\n",
      "   comic book box office\n",
      "  </p>\n",
      "  <div>\n",
      "   <h1>\n",
      "    Top Five Movies\n",
      "   </h1>\n",
      "   <p>\n",
      "    <b>\n",
      "     The Avengers\n",
      "    </b>\n",
      "    <span class=\"year\">\n",
      "     2010\n",
      "    </span>\n",
      "    <a href=\"http://www.boxofficemojo.com/movies/?id=avengers11.htm\">\n",
      "     more info\n",
      "    </a>\n",
      "   </p>\n",
      "   <p>\n",
      "    <b>\n",
      "     The Dark Knight\n",
      "    </b>\n",
      "    <span class=\"year\">\n",
      "     2008\n",
      "    </span>\n",
      "   </p>\n",
      "   <p>\n",
      "    <b>\n",
      "     Avengers: Age Of Ultron\n",
      "    </b>\n",
      "    <span class=\"year\">\n",
      "     2015\n",
      "    </span>\n",
      "   </p>\n",
      "   <p>\n",
      "    <b>\n",
      "     The Dark Knight Rises\n",
      "    </b>\n",
      "    <span class=\"year\">\n",
      "     2012\n",
      "    </span>\n",
      "   </p>\n",
      "   <p>\n",
      "    <b>\n",
      "     Iron Man 3\n",
      "    </b>\n",
      "    <span class=\"year\">\n",
      "     2013\n",
      "    </span>\n",
      "   </p>\n",
      "  </div>\n",
      "  <div>\n",
      "   <h1>\n",
      "    Middle Five Movies 47-51\n",
      "   </h1>\n",
      "   <p>\n",
      "    <b>\n",
      "     The Incredible Hulk\n",
      "    </b>\n",
      "    <span class=\"year\">\n",
      "     2008\n",
      "    </span>\n",
      "    <a href=\"http://www.boxofficemojo.com/movies/?id=incrediblehulk.htm\">\n",
      "     more info\n",
      "    </a>\n",
      "   </p>\n",
      "   <p>\n",
      "    <b>\n",
      "     Wanted\n",
      "    </b>\n",
      "    <span class=\"year\">\n",
      "     2008\n",
      "    </span>\n",
      "   </p>\n",
      "   <p id=\"favorite\">\n",
      "    <b>\n",
      "     Superman\n",
      "    </b>\n",
      "    <span class=\"year\">\n",
      "     1978\n",
      "    </span>\n",
      "   </p>\n",
      "   <p>\n",
      "    <b>\n",
      "     The Wolverine\n",
      "    </b>\n",
      "    <span class=\"year\">\n",
      "     2013\n",
      "    </span>\n",
      "   </p>\n",
      "   <p>\n",
      "    <b>\n",
      "     Hulk\n",
      "    </b>\n",
      "    <span class=\"year\">\n",
      "     2003\n",
      "    </span>\n",
      "   </p>\n",
      "  </div>\n",
      "  <div>\n",
      "   <h1>\n",
      "    Bottom Five Movies\n",
      "   </h1>\n",
      "   <ul>\n",
      "    <li>\n",
      "     The Rocketeer\n",
      "     <span class=\"year\">\n",
      "      1991\n",
      "     </span>\n",
      "    </li>\n",
      "    <li>\n",
      "     Timecop\n",
      "     <span class=\"year\">\n",
      "      1994\n",
      "     </span>\n",
      "    </li>\n",
      "    <li>\n",
      "     Teenage Mutant Ninja Turtles III\n",
      "     <span class=\"year\">\n",
      "      1993\n",
      "     </span>\n",
      "    </li>\n",
      "    <li>\n",
      "     Ghost In The Shell\n",
      "     <span class=\"year\">\n",
      "      2017\n",
      "     </span>\n",
      "    </li>\n",
      "    <li>\n",
      "     Catwoman\n",
      "     <span class=\"year\">\n",
      "      2004\n",
      "     </span>\n",
      "    </li>\n",
      "   </ul>\n",
      "   <h2>\n",
      "    Most Terrible 137-141\n",
      "   </h2>\n",
      "   <p>\n",
      "    Snowpiercer\n",
      "   </p>\n",
      "   <p>\n",
      "    Tank Girl\n",
      "   </p>\n",
      "   <p>\n",
      "    Barb Wire\n",
      "   </p>\n",
      "   <p>\n",
      "    Batman: kilpng joke\n",
      "   </p>\n",
      "   <p>\n",
      "    Blue is the warmest color\n",
      "   </p>\n",
      "   <h3>\n",
      "    that's all\n",
      "   </h3>\n",
      "  </div>\n",
      " </body>\n",
      "</html>\n",
      "\n"
     ]
    }
   ],
   "source": [
    "print(soup_doc.prettify())\n",
    "# print(soup_doc)\n",
    "# div, div: this is the seperation of two divisions "
   ]
  },
  {
   "cell_type": "markdown",
   "metadata": {},
   "source": [
    "Here is a very simple example of beautiful soup's built in functions. .title is shorthand for .find('title'). It finds the first title tag in the document. If we append .string we get the text inside the tag."
   ]
  },
  {
   "cell_type": "code",
   "execution_count": null,
   "metadata": {
    "collapsed": true
   },
   "outputs": [],
   "source": [
    "soup_doc.title"
   ]
  },
  {
   "cell_type": "code",
   "execution_count": null,
   "metadata": {
    "collapsed": true
   },
   "outputs": [],
   "source": [
    "soup_doc.title.string"
   ]
  },
  {
   "cell_type": "markdown",
   "metadata": {},
   "source": [
    "When you are first getting comfortable with beautiful soup, it is wise to use the .find() notation. find() searches for the first instance of a tag, and returns the contents of the tag as well as its tags. (Remember .string strips away the tags)"
   ]
  },
  {
   "cell_type": "code",
   "execution_count": null,
   "metadata": {
    "collapsed": true
   },
   "outputs": [],
   "source": [
    "soup_doc.find('p')"
   ]
  },
  {
   "cell_type": "markdown",
   "metadata": {
    "collapsed": true
   },
   "source": [
    "Most often when we are scraping HTML simply finding one tag will not do the trick. We need to navigate hierarchically down the tree of nested tags. We'll begin by searching the first list that is contained in the first `<div>` tag. Since we are looking for the first occurrence, we can use .find()"
   ]
  },
  {
   "cell_type": "code",
   "execution_count": null,
   "metadata": {
    "collapsed": true
   },
   "outputs": [],
   "source": [
    "soup_doc.find('div')\n",
    "#soup_doc.div  # would also work"
   ]
  },
  {
   "cell_type": "markdown",
   "metadata": {},
   "source": [
    "Below, we navigate the tree: starting at the outer `<div>` tag, and then we use find_all() to get every `<p>` tag nested inside. After that we loop through the `<p>` tags, and pull out the text that is inside the `<b>` tag, using `string` get us just the name of the movies with no tags around it."
   ]
  },
  {
   "cell_type": "code",
   "execution_count": null,
   "metadata": {
    "collapsed": true
   },
   "outputs": [],
   "source": [
    "first_div = soup_doc.find('div')\n",
    "#first_div Is a variable that contains all HTML in the first div \n",
    "all_paragraphs = first_div.find_all('p')\n",
    "#.find_all() gives us a list\n",
    "#so to search elements inside that list \n",
    "#we now need to loop through it\n",
    "for movies in all_paragraphs:\n",
    "    print(movies.find('b').string)"
   ]
  },
  {
   "cell_type": "markdown",
   "metadata": {},
   "source": [
    "**More on find_all()**\n",
    "\n",
    "If there are more than one of the same tags, find_all() gives us a list. We can use list notation to get a specific element in the list. The first cell below gives us a list of every single `<p>` tag in the document. In the following cell, we get a list of all of the `<p>` tags inside the first `<div>`. Try changing the index number `[0]` for each of these lists to see what you get."
   ]
  },
  {
   "cell_type": "code",
   "execution_count": 8,
   "metadata": {},
   "outputs": [
    {
     "data": {
      "text/plain": [
       "<p> comic book box office</p>"
      ]
     },
     "execution_count": 8,
     "metadata": {},
     "output_type": "execute_result"
    }
   ],
   "source": [
    "soup_doc.find_all('p')[0]\n",
    "# uncomment the line below to see the full list\n",
    "#soup_doc.find_all('p')"
   ]
  },
  {
   "cell_type": "code",
   "execution_count": null,
   "metadata": {
    "collapsed": true
   },
   "outputs": [],
   "source": [
    "soup_doc.find('div').find_all('p')[0]\n",
    "#soup_doc.find('div').find_all('p')"
   ]
  },
  {
   "cell_type": "markdown",
   "metadata": {},
   "source": [
    "Here is a one line search down the tree. Note that I specify the index number of the `<p>` tag I want to search further. Again, if I wanted to search all of the `<p>` tags, I would need to use a loop."
   ]
  },
  {
   "cell_type": "code",
   "execution_count": null,
   "metadata": {
    "collapsed": true
   },
   "outputs": [],
   "source": [
    "soup_doc.find('div').find_all('p')[2].find('b').string\n",
    "#soup_doc.div.find_all('p')[2].b.string ##Same thing but shorter"
   ]
  },
  {
   "cell_type": "markdown",
   "metadata": {},
   "source": [
    "These are two examples of searching the first list and pulling it out the name and date of the third movie in the list [2] -- try changing that index number to get movies in the list."
   ]
  },
  {
   "cell_type": "code",
   "execution_count": null,
   "metadata": {
    "collapsed": true
   },
   "outputs": [],
   "source": [
    "that_movie = soup_doc.find('div').find_all('p')[2]\n",
    "movie_name = that_movie.find('b')\n",
    "movie_year = that_movie.find('span')\n",
    "print(movie_name, movie_year)"
   ]
  },
  {
   "cell_type": "code",
   "execution_count": null,
   "metadata": {
    "collapsed": true
   },
   "outputs": [],
   "source": [
    "that_movie = soup_doc.find('div').find_all('p')[2]\n",
    "movie_name = that_movie.b\n",
    "movie_year = that_movie.find('span')\n",
    "print(movie_name.string, \"||\", movie_year.string)"
   ]
  },
  {
   "cell_type": "markdown",
   "metadata": {},
   "source": [
    "Now we get the next list (the second `<div>` or list element [1]) and then pull out all of the names and dates by using a loop."
   ]
  },
  {
   "cell_type": "code",
   "execution_count": 10,
   "metadata": {},
   "outputs": [
    {
     "name": "stdout",
     "output_type": "stream",
     "text": [
      "<div>\n",
      "<h1> Middle Five Movies 47-51</h1>\n",
      "<p><b> The Incredible Hulk</b> <span class=\"year\">2008</span> <a href=\"http://www.boxofficemojo.com/movies/?id=incrediblehulk.htm\">more info</a></p>\n",
      "<p><b> Wanted</b> <span class=\"year\">2008</span></p>\n",
      "<p id=\"favorite\"><b> Superman</b> <span class=\"year\">1978</span></p>\n",
      "<p> The Wolverine<span class=\"year\">2013</span></p>\n",
      "<p><b> Hulk</b> <span class=\"year\">2003</span></p>\n",
      "</div>\n",
      "[<p><b> The Incredible Hulk</b> <span class=\"year\">2008</span> <a href=\"http://www.boxofficemojo.com/movies/?id=incrediblehulk.htm\">more info</a></p>, <p><b> Wanted</b> <span class=\"year\">2008</span></p>, <p id=\"favorite\"><b> Superman</b> <span class=\"year\">1978</span></p>, <p> The Wolverine<span class=\"year\">2013</span></p>, <p><b> Hulk</b> <span class=\"year\">2003</span></p>]\n"
     ]
    }
   ],
   "source": [
    "next_list = soup_doc.find_all('div')[1]\n",
    "print(next_list)\n",
    "next_movies = next_list.find_all('p')\n",
    "print(next_movies)"
   ]
  },
  {
   "cell_type": "code",
   "execution_count": 12,
   "metadata": {},
   "outputs": [
    {
     "name": "stdout",
     "output_type": "stream",
     "text": [
      " The Incredible Hulk || 2008\n",
      " Wanted || 2008\n",
      " Superman || 1978\n",
      " Hulk || 2003\n"
     ]
    }
   ],
   "source": [
    "# if there's a missing blod tag in one of the elements\n",
    "for movie in next_movies:\n",
    "    if movie.b is None:\n",
    "        continue\n",
    "    movie_name = movie.b\n",
    "    movie_year = movie.find('span')\n",
    "    print(movie_name.string, \"||\", movie_year.string)"
   ]
  },
  {
   "cell_type": "code",
   "execution_count": 14,
   "metadata": {},
   "outputs": [
    {
     "name": "stdout",
     "output_type": "stream",
     "text": [
      " The Incredible Hulk || 2008\n",
      " Wanted || 2008\n",
      " Superman || 1978\n",
      " The Wolverine || 2013\n",
      " Hulk || 2003\n"
     ]
    }
   ],
   "source": [
    "for movie in next_movies:\n",
    "    movie_year = movie.find('span')\n",
    "    if movie.b is None:\n",
    "        movie_name = movie.find('span').previous_sibling\n",
    "    else:\n",
    "        movie_name = movie.b\n",
    "    print(movie_name.string, \"||\", movie_year.string)"
   ]
  },
  {
   "cell_type": "markdown",
   "metadata": {},
   "source": [
    "To get the third list, we could have gotten `<div>` [2], but because it has a unique `<ul>` parent tag--we go straight for that.\n",
    "\n",
    "Try this: get 'Ghost in the Shell' out of that list."
   ]
  },
  {
   "cell_type": "code",
   "execution_count": 22,
   "metadata": {},
   "outputs": [
    {
     "name": "stdout",
     "output_type": "stream",
     "text": [
      " Ghost In The Shell \n"
     ]
    }
   ],
   "source": [
    "#third_list = soup_doc.find_all('div')[2].find('li')\n",
    "third_list = soup_doc.find('ul')\n",
    "ghost = third_list.find_all('li')[3]\n",
    "ghost_name = ghost.find('span').previous_sibling\n",
    "print(ghost_name)"
   ]
  },
  {
   "cell_type": "markdown",
   "metadata": {},
   "source": [
    "**Parents, children, and siblings**\n",
    "\n",
    "So far we have navigated the DOM tree from parent to child-- div > p > b\n",
    "\n",
    "Sometimes you want to go the opposite direction, find a unique identifier inside a container and then get everything in the container. For example, as we saw the third list has a unique `<ul>` tag. If he wanted to get everything that is inside the same parent container (the `<div>`) we could do something like this:"
   ]
  },
  {
   "cell_type": "code",
   "execution_count": 23,
   "metadata": {},
   "outputs": [
    {
     "data": {
      "text/plain": [
       "<div>\n",
       "<h1> Bottom Five Movies</h1>\n",
       "<ul>\n",
       "<li> The Rocketeer <span class=\"year\">1991</span></li>\n",
       "<li> Timecop <span class=\"year\">1994</span></li>\n",
       "<li> Teenage Mutant Ninja Turtles III <span class=\"year\">1993</span></li>\n",
       "<li> Ghost In The Shell <span class=\"year\">2017</span></li>\n",
       "<li> Catwoman <span class=\"year\">2004</span></li>\n",
       "</ul>\n",
       "<h2> Most Terrible 137-141</h2>\n",
       "<p>Snowpiercer</p>\n",
       "<p>Tank Girl</p>\n",
       "<p>Barb Wire</p>\n",
       "<p>Batman: kilpng joke</p>\n",
       "<p>Blue is the warmest color</p>\n",
       "<h3>that's all</h3>\n",
       "</div>"
      ]
     },
     "execution_count": 23,
     "metadata": {},
     "output_type": "execute_result"
    }
   ],
   "source": [
    "soup_doc.find('ul').parent"
   ]
  },
  {
   "cell_type": "markdown",
   "metadata": {},
   "source": [
    "You can also go sideways, meaning finding siblings--elements that are in the same container at the same level of the hierarchy. As you've seen, the fourth list is not in its own div. To get the fourth list we could use the unique `<h2>` to get all of the siblings that come after it."
   ]
  },
  {
   "cell_type": "code",
   "execution_count": 24,
   "metadata": {},
   "outputs": [
    {
     "data": {
      "text/plain": [
       "[<p>Snowpiercer</p>,\n",
       " <p>Tank Girl</p>,\n",
       " <p>Barb Wire</p>,\n",
       " <p>Batman: kilpng joke</p>,\n",
       " <p>Blue is the warmest color</p>,\n",
       " <h3>that's all</h3>]"
      ]
     },
     "execution_count": 24,
     "metadata": {},
     "output_type": "execute_result"
    }
   ],
   "source": [
    "last_head = soup_doc.find('h2')\n",
    "last_list = last_head.find_next_siblings()\n",
    "last_list\n"
   ]
  },
  {
   "cell_type": "markdown",
   "metadata": {},
   "source": [
    "We can even specify what kind siblings you want to find--notice how that's final \"that's all\" showed up. We can search for all of the next `<p>` tags. (There is also a previous_siblings function goes backwards.)"
   ]
  },
  {
   "cell_type": "code",
   "execution_count": 29,
   "metadata": {},
   "outputs": [
    {
     "name": "stdout",
     "output_type": "stream",
     "text": [
      "Snowpiercer\n",
      "Tank Girl\n",
      "Barb Wire\n",
      "Batman: kilpng joke\n",
      "Blue is the warmest color\n"
     ]
    }
   ],
   "source": [
    "last_head = soup_doc.find('h2')\n",
    "last_list = last_head.find_next_siblings('p')\n",
    "last_list\n",
    "for movie_name in last_list:\n",
    "    print(movie_name.string)"
   ]
  },
  {
   "cell_type": "markdown",
   "metadata": {},
   "source": [
    "**Searching id and class**\n",
    "\n",
    "Most websites these days use id and class attributes to style (and run code) on their webpages. These can be some of the most helpful attributes to search for to find certain types/groups of information."
   ]
  },
  {
   "cell_type": "code",
   "execution_count": null,
   "metadata": {
    "collapsed": true
   },
   "outputs": [],
   "source": [
    "#Finds all classes named \"year\"\n",
    "all_years = soup_doc.find_all(class_=\"year\")\n",
    "print(all_years)\n",
    "#Try printing out just the years without any tags around them"
   ]
  },
  {
   "cell_type": "code",
   "execution_count": null,
   "metadata": {
    "collapsed": true
   },
   "outputs": [],
   "source": [
    "#Finds any tag that has an id attribute in it\n",
    "fav = soup_doc.find_all(id=True)\n",
    "print(fav)"
   ]
  },
  {
   "cell_type": "code",
   "execution_count": null,
   "metadata": {
    "collapsed": true
   },
   "outputs": [],
   "source": [
    "fav = soup_doc.find_all(id='favorite')\n",
    "print(fav)"
   ]
  },
  {
   "cell_type": "markdown",
   "metadata": {},
   "source": [
    "You can also search for any kind of attribute beyond id and class, and you can specify what kind of tag you want to look for that attribute in. This is very helpful for zoning in on specific parts of the webpage."
   ]
  },
  {
   "cell_type": "code",
   "execution_count": null,
   "metadata": {
    "collapsed": true
   },
   "outputs": [],
   "source": [
    "fav = soup_doc.find_all('p', attrs={'id': 'favorite'})\n",
    "print(fav)"
   ]
  },
  {
   "cell_type": "markdown",
   "metadata": {
    "collapsed": true
   },
   "source": [
    "**Pulling out attributes**\n",
    "\n",
    "Not only can you search by attributes but you can pull out the information hidden inside a tag. The most common information you will want to get is a link. Like in this tag: \n",
    "`<a href=\"http://www.boxofficemojo.com/movies/?id=avengers11.htm\">more info</a>`\n",
    "\n",
    "URLs are found in `<a>` tags inside the `href` attribute."
   ]
  },
  {
   "cell_type": "code",
   "execution_count": null,
   "metadata": {
    "collapsed": true
   },
   "outputs": [],
   "source": [
    "first_link = soup_doc.find('a')\n",
    "get_url = first_link['href']\n",
    "print(get_url)"
   ]
  },
  {
   "cell_type": "markdown",
   "metadata": {},
   "source": [
    "**Using that link!**\n",
    "\n",
    "Here I am taking a real link to box office mojo and scraping a table with some basic information about the movie--and turning that info into a dictionary! I will cover this in class on Thursday."
   ]
  },
  {
   "cell_type": "code",
   "execution_count": null,
   "metadata": {
    "collapsed": true
   },
   "outputs": [],
   "source": [
    "raw_html2 = urlopen(get_url).read()\n",
    "soup_doc2 = BeautifulSoup(raw_html2, \"html.parser\")\n",
    "print(soup_doc2.prettify())"
   ]
  },
  {
   "cell_type": "code",
   "execution_count": null,
   "metadata": {
    "collapsed": true
   },
   "outputs": [],
   "source": [
    "my_table = soup_doc2.find(\"table\", attrs={\"bgcolor\": \"#dcdcdc\"})\n",
    "print(my_table)"
   ]
  },
  {
   "cell_type": "code",
   "execution_count": null,
   "metadata": {
    "collapsed": true
   },
   "outputs": [],
   "source": [
    "each_entry = my_table.find_all('td')\n",
    "each_entry"
   ]
  },
  {
   "cell_type": "code",
   "execution_count": null,
   "metadata": {
    "collapsed": true
   },
   "outputs": [],
   "source": [
    "print(each_entry[0])"
   ]
  },
  {
   "cell_type": "code",
   "execution_count": null,
   "metadata": {
    "collapsed": true
   },
   "outputs": [],
   "source": [
    "for entry in each_entry:\n",
    "    the_data = entry.find('b')\n",
    "    the_category = the_data.previous_sibling\n",
    "    print(the_data.string)\n",
    "    print(the_category)"
   ]
  },
  {
   "cell_type": "code",
   "execution_count": null,
   "metadata": {
    "collapsed": true
   },
   "outputs": [],
   "source": [
    "avengers_dict = {}\n",
    "for entry in each_entry:\n",
    "    the_data = entry.find('b')\n",
    "    the_category = the_data.previous_sibling\n",
    "    data_string = the_data.string\n",
    "    the_category = the_category[:-2].replace(' ','')\n",
    "    avengers_dict[the_category] = data_string\n",
    "avengers_dict"
   ]
  },
  {
   "cell_type": "code",
   "execution_count": null,
   "metadata": {
    "collapsed": true
   },
   "outputs": [],
   "source": [
    "avengers_dict['Genre']"
   ]
  },
  {
   "cell_type": "code",
   "execution_count": null,
   "metadata": {
    "collapsed": true
   },
   "outputs": [],
   "source": []
  }
 ],
 "metadata": {
  "kernelspec": {
   "display_name": "Python 3",
   "language": "python",
   "name": "python3"
  },
  "language_info": {
   "codemirror_mode": {
    "name": "ipython",
    "version": 3
   },
   "file_extension": ".py",
   "mimetype": "text/x-python",
   "name": "python",
   "nbconvert_exporter": "python",
   "pygments_lexer": "ipython3",
   "version": "3.6.1"
  }
 },
 "nbformat": 4,
 "nbformat_minor": 2
}
